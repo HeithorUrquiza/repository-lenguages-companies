{
 "cells": [
  {
   "cell_type": "markdown",
   "metadata": {},
   "source": [
    "# 1) Descobrindo o valor da varável soma"
   ]
  },
  {
   "cell_type": "code",
   "execution_count": 6,
   "metadata": {},
   "outputs": [
    {
     "name": "stdout",
     "output_type": "stream",
     "text": [
      "91\n"
     ]
    }
   ],
   "source": [
    "idx = 13\n",
    "sum = 0\n",
    "k = 0\n",
    "\n",
    "while k < idx:\n",
    "    k += 1\n",
    "    sum += k\n",
    "    \n",
    "print(sum)"
   ]
  },
  {
   "cell_type": "markdown",
   "metadata": {},
   "source": [
    "<p>Seguindo o algoritmo proposto, ao final da execução a variável SOMA terá o valor de 91</p>"
   ]
  },
  {
   "cell_type": "markdown",
   "metadata": {},
   "source": [
    "***\n",
    "# 2) Sequência de Fibonacci "
   ]
  },
  {
   "cell_type": "code",
   "execution_count": 17,
   "metadata": {},
   "outputs": [],
   "source": [
    "def find_fibo(num: int):\n",
    "    fibo = [0, 1]\n",
    "    \n",
    "    for _ in range(2, num):\n",
    "        new_number = fibo[-1] + fibo[-2]\n",
    "        fibo.append(new_number)\n",
    "        \n",
    "    if num in fibo:\n",
    "        return (f'O número informado ({num}) está presente na sequência', fibo)\n",
    "    return (f'O número informado ({num}) não está presente na sequência', fibo)\n",
    "    "
   ]
  },
  {
   "cell_type": "code",
   "execution_count": 18,
   "metadata": {},
   "outputs": [
    {
     "name": "stdout",
     "output_type": "stream",
     "text": [
      "O número informado (13) está presente na sequência \n",
      "[0, 1, 1, 2, 3, 5, 8, 13, 21, 34, 55, 89, 144]\n"
     ]
    }
   ],
   "source": [
    "num = int(input('Digite um número: '))\n",
    "\n",
    "msg, fibo = find_fibo(num)\n",
    "\n",
    "print(f'{msg} \\n{fibo}')"
   ]
  },
  {
   "cell_type": "markdown",
   "metadata": {},
   "source": [
    "***\n",
    "# 3) Descobrindo a lógica e o último elemento"
   ]
  },
  {
   "cell_type": "markdown",
   "metadata": {},
   "source": [
    "<p>\n",
    "    <h3>Sequência</h3>\n",
    "    a) 1, 3, 5, 7, ? <br><br>\n",
    "    b) 2, 4, 8, 16, 32, 64, ? <br><br>\n",
    "    c) 0, 1, 4, 9, 16, 25, 36, ? <br><br>\n",
    "    d) 4, 16, 36, 64, ? <br><br>\n",
    "    e) 1, 1, 2, 3, 5, 8, ? <br><br>\n",
    "    f) 2, 10, 12, 16, 17, 18, 19, ? <br><br>\n",
    "\n",
    "    - Resposta\n",
    "    a) 9 - Pois o número sucessor é igual ao anterior acrescido de 2\n",
    "    b) 128 - Pois os números da sequência estào sendo multiplicados por 2\n",
    "    c) 49 - Pois os números estão sendo acrescidos por números ímpares\n",
    "    d) 100 - Pois a lógica utilizada é N = B + (B - A) + 8, onde B é o antecessor do próximo número e A o antecessor de B\n",
    "    e) 13 - Pois assim como no Fibonnaci, o sucessor é igual a soma dos dois números anteriores\n",
    "    f) 200 - Pois a nomeclatura de todos os números da sequência começam com a letra D\n",
    "</p>"
   ]
  },
  {
   "cell_type": "markdown",
   "metadata": {},
   "source": [
    "***\n",
    "# 4) Descobrindo o interruptor"
   ]
  },
  {
   "cell_type": "markdown",
   "metadata": {},
   "source": [
    "<p>\n",
    "    Para descobrir qual interruptor pertence a qual lâmpada, utilizando apenas duas idas até uma das salas, bastaria acionar um interruptor por vez e, utilizando das duas tentativas, verificar em uma única sala se a lâmpada estava acessa ou quente (caso ela deslige se a porta abrir). Depois disso, bastaria escolher qualquer outra das salas restantes quando acionasse um dos dois interruptores faltantes e, com a mesma estratégia porém com apenas uma ida, descobrir qual dispositivo é responsável por qual lâmpada.\n",
    "</p>"
   ]
  },
  {
   "cell_type": "markdown",
   "metadata": {},
   "source": [
    "***\n",
    "# 5) Invertendo caracteres de uma string"
   ]
  },
  {
   "cell_type": "code",
   "execution_count": 31,
   "metadata": {},
   "outputs": [
    {
     "name": "stdout",
     "output_type": "stream",
     "text": [
      "ESREVER OÃÇNUF\n"
     ]
    }
   ],
   "source": [
    "def reverse_str(entrace: str):\n",
    "    str_reversed = []\n",
    "    \n",
    "    for i in range(len(entrace)-1, -1, -1):\n",
    "        str_reversed.append(entrace[i])\n",
    "    \n",
    "    return ''.join(str_reversed)\n",
    "    \n",
    "    \n",
    "reversed_str = reverse_str('FUNÇÃO REVERSE')\n",
    "print(reversed_str)"
   ]
  }
 ],
 "metadata": {
  "kernelspec": {
   "display_name": "Python 3",
   "language": "python",
   "name": "python3"
  },
  "language_info": {
   "codemirror_mode": {
    "name": "ipython",
    "version": 3
   },
   "file_extension": ".py",
   "mimetype": "text/x-python",
   "name": "python",
   "nbconvert_exporter": "python",
   "pygments_lexer": "ipython3",
   "version": "3.10.12"
  }
 },
 "nbformat": 4,
 "nbformat_minor": 2
}
